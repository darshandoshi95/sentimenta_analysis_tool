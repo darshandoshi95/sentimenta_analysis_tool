{
 "cells": [
  {
   "cell_type": "code",
   "execution_count": 2,
   "metadata": {},
   "outputs": [],
   "source": [
    "#create python tool for sentimental analysis \n",
    "import numpy as np\n",
    "import pandas as pd\n",
    "import tweepy\n",
    "import matplotlib.pyplot as plt\n",
    "import IPython.display \n",
    "from IPython.display import display\n",
    "import seaborn as sns\n",
    "%matplotlib inline"
   ]
  },
  {
   "cell_type": "code",
   "execution_count": 3,
   "metadata": {
    "collapsed": true
   },
   "outputs": [],
   "source": [
    "'''\n",
    "#twitter access tokens\n",
    "consumer_key='GTc2RpxcK3Y5wKhAjciEMYbj7'\n",
    "consumer_secret='9hDJLhr37sQUcKvbdoWCUQD3u8SLX75Mo0DwiSqvBGf0sLUKq0'\n",
    "access_key='775314049563111424-hmWCttrszUBJ5KBqTJyvR3bzcTkP4As'\n",
    "sccess_secret='2M00eOoTvAiHjm8NXQYquWprfMgPv9pSRleMbFZlGDEGQ''''\n"
   ]
  },
  {
   "cell_type": "code",
   "execution_count": 9,
   "metadata": {},
   "outputs": [],
   "source": [
    "import sys\n",
    "sys.path.append('/Users/darshandoshi/Desktop/git-repositiories')\n",
    "import credentials \n",
    "from credentials import *"
   ]
  },
  {
   "cell_type": "code",
   "execution_count": 16,
   "metadata": {
    "collapsed": true
   },
   "outputs": [],
   "source": [
    "#twitter api setup\n",
    "def setup():\n",
    "    auth = tweepy.OAuthHandler(consumer_key,consumer_secret)\n",
    "    auth.set_access_token(access_key,sccess_secret)\n",
    "    api=tweepy.API(auth)\n",
    "    return api\n"
   ]
  },
  {
   "cell_type": "code",
   "execution_count": 17,
   "metadata": {},
   "outputs": [
    {
     "name": "stdout",
     "output_type": "stream",
     "text": [
      "number of tweets extracted : {} 5\n",
      "5 recent tweets:\n",
      "Reply to @conor_pope @broadsheet_ie  Just as well your heavily overweighted Irish Times stipend allows you to take taxis then so.\n",
      "@leahysarah \"It's hard to believe that Norma left the world a whole year ago. It's such a lesser place without her.\"  Very true, Sarah!\n",
      "RT @paula_span: Gay Men's Chorus singing \"There is Nothing Like a Dame.\" Eulogy by Howard Stern. Sounds like a great sendoff for Joan http:…\n",
      "RT @realDonaldTrump: \"@kpasee: Hearing that Donald Trump went to Joan Rivers's funeral breaks my heart, I feel like she just won the celebr…\n",
      "RT @nytimes: Some of the stories told at Joan Rivers's funeral can be printed in this newspaper http://t.co/MH4c2UHWwP http://t.co/Naodykgm…\n"
     ]
    }
   ],
   "source": [
    "extract = setup()\n",
    "tweets = extract.user_timeline(screen_name = 'realDonalTrump',count = 200)\n",
    "print('number of tweets extracted : {}',len(tweets))\n",
    "print('5 recent tweets:')\n",
    "for t in tweets[:5]:\n",
    "    print(t.text)\n",
    "    "
   ]
  },
  {
   "cell_type": "code",
   "execution_count": 20,
   "metadata": {},
   "outputs": [],
   "source": [
    "data = pd.DataFrame(data=[tweet.text for tweet in tweets],columns=['tweets'])"
   ]
  },
  {
   "cell_type": "code",
   "execution_count": 22,
   "metadata": {},
   "outputs": [
    {
     "data": {
      "text/html": [
       "<div>\n",
       "<style>\n",
       "    .dataframe thead tr:only-child th {\n",
       "        text-align: right;\n",
       "    }\n",
       "\n",
       "    .dataframe thead th {\n",
       "        text-align: left;\n",
       "    }\n",
       "\n",
       "    .dataframe tbody tr th {\n",
       "        vertical-align: top;\n",
       "    }\n",
       "</style>\n",
       "<table border=\"1\" class=\"dataframe\">\n",
       "  <thead>\n",
       "    <tr style=\"text-align: right;\">\n",
       "      <th></th>\n",
       "      <th>tweets</th>\n",
       "    </tr>\n",
       "  </thead>\n",
       "  <tbody>\n",
       "    <tr>\n",
       "      <th>0</th>\n",
       "      <td>Reply to @conor_pope @broadsheet_ie  Just as w...</td>\n",
       "    </tr>\n",
       "    <tr>\n",
       "      <th>1</th>\n",
       "      <td>@leahysarah \"It's hard to believe that Norma l...</td>\n",
       "    </tr>\n",
       "    <tr>\n",
       "      <th>2</th>\n",
       "      <td>RT @paula_span: Gay Men's Chorus singing \"Ther...</td>\n",
       "    </tr>\n",
       "    <tr>\n",
       "      <th>3</th>\n",
       "      <td>RT @realDonaldTrump: \"@kpasee: Hearing that Do...</td>\n",
       "    </tr>\n",
       "    <tr>\n",
       "      <th>4</th>\n",
       "      <td>RT @nytimes: Some of the stories told at Joan ...</td>\n",
       "    </tr>\n",
       "  </tbody>\n",
       "</table>\n",
       "</div>"
      ],
      "text/plain": [
       "                                              tweets\n",
       "0  Reply to @conor_pope @broadsheet_ie  Just as w...\n",
       "1  @leahysarah \"It's hard to believe that Norma l...\n",
       "2  RT @paula_span: Gay Men's Chorus singing \"Ther...\n",
       "3  RT @realDonaldTrump: \"@kpasee: Hearing that Do...\n",
       "4  RT @nytimes: Some of the stories told at Joan ..."
      ]
     },
     "metadata": {},
     "output_type": "display_data"
    }
   ],
   "source": [
    "display(data.head(10))"
   ]
  },
  {
   "cell_type": "code",
   "execution_count": 24,
   "metadata": {},
   "outputs": [],
   "source": [
    "#adding relevant data\n",
    "data['len']=np.array([len(tweet.text) for tweet in tweets])\n",
    "data['ID']=np.array([tweet.id for tweet in tweets])\n",
    "data['Date']=np.array([tweet.created_at for tweet in tweets])\n",
    "data['Source']=np.array([tweet.source for tweet in tweets])\n",
    "data['Likes']=np.array([tweet.favorite_count for tweet in tweets])\n",
    "data['RTs']=np.array([tweet.retweet_count for tweet in tweets])"
   ]
  },
  {
   "cell_type": "code",
   "execution_count": 26,
   "metadata": {},
   "outputs": [
    {
     "data": {
      "text/html": [
       "<div>\n",
       "<style>\n",
       "    .dataframe thead tr:only-child th {\n",
       "        text-align: right;\n",
       "    }\n",
       "\n",
       "    .dataframe thead th {\n",
       "        text-align: left;\n",
       "    }\n",
       "\n",
       "    .dataframe tbody tr th {\n",
       "        vertical-align: top;\n",
       "    }\n",
       "</style>\n",
       "<table border=\"1\" class=\"dataframe\">\n",
       "  <thead>\n",
       "    <tr style=\"text-align: right;\">\n",
       "      <th></th>\n",
       "      <th>tweets</th>\n",
       "      <th>len</th>\n",
       "      <th>ID</th>\n",
       "      <th>Date</th>\n",
       "      <th>Source</th>\n",
       "      <th>Likes</th>\n",
       "      <th>RTs</th>\n",
       "    </tr>\n",
       "  </thead>\n",
       "  <tbody>\n",
       "    <tr>\n",
       "      <th>0</th>\n",
       "      <td>Reply to @conor_pope @broadsheet_ie  Just as w...</td>\n",
       "      <td>129</td>\n",
       "      <td>524923787658412033</td>\n",
       "      <td>2014-10-22 14:02:38</td>\n",
       "      <td>Twitter Web Client</td>\n",
       "      <td>54</td>\n",
       "      <td>22</td>\n",
       "    </tr>\n",
       "    <tr>\n",
       "      <th>1</th>\n",
       "      <td>@leahysarah \"It's hard to believe that Norma l...</td>\n",
       "      <td>135</td>\n",
       "      <td>508925124092116992</td>\n",
       "      <td>2014-09-08 10:29:39</td>\n",
       "      <td>Twitter Web Client</td>\n",
       "      <td>13</td>\n",
       "      <td>6</td>\n",
       "    </tr>\n",
       "    <tr>\n",
       "      <th>2</th>\n",
       "      <td>RT @paula_span: Gay Men's Chorus singing \"Ther...</td>\n",
       "      <td>140</td>\n",
       "      <td>508924636965666817</td>\n",
       "      <td>2014-09-08 10:27:43</td>\n",
       "      <td>Twitter Web Client</td>\n",
       "      <td>0</td>\n",
       "      <td>15</td>\n",
       "    </tr>\n",
       "    <tr>\n",
       "      <th>3</th>\n",
       "      <td>RT @realDonaldTrump: \"@kpasee: Hearing that Do...</td>\n",
       "      <td>140</td>\n",
       "      <td>508924574298546176</td>\n",
       "      <td>2014-09-08 10:27:28</td>\n",
       "      <td>Twitter Web Client</td>\n",
       "      <td>0</td>\n",
       "      <td>70</td>\n",
       "    </tr>\n",
       "    <tr>\n",
       "      <th>4</th>\n",
       "      <td>RT @nytimes: Some of the stories told at Joan ...</td>\n",
       "      <td>140</td>\n",
       "      <td>508924469818437632</td>\n",
       "      <td>2014-09-08 10:27:03</td>\n",
       "      <td>Twitter Web Client</td>\n",
       "      <td>0</td>\n",
       "      <td>473</td>\n",
       "    </tr>\n",
       "  </tbody>\n",
       "</table>\n",
       "</div>"
      ],
      "text/plain": [
       "                                              tweets  len                  ID  \\\n",
       "0  Reply to @conor_pope @broadsheet_ie  Just as w...  129  524923787658412033   \n",
       "1  @leahysarah \"It's hard to believe that Norma l...  135  508925124092116992   \n",
       "2  RT @paula_span: Gay Men's Chorus singing \"Ther...  140  508924636965666817   \n",
       "3  RT @realDonaldTrump: \"@kpasee: Hearing that Do...  140  508924574298546176   \n",
       "4  RT @nytimes: Some of the stories told at Joan ...  140  508924469818437632   \n",
       "\n",
       "                 Date              Source  Likes  RTs  \n",
       "0 2014-10-22 14:02:38  Twitter Web Client     54   22  \n",
       "1 2014-09-08 10:29:39  Twitter Web Client     13    6  \n",
       "2 2014-09-08 10:27:43  Twitter Web Client      0   15  \n",
       "3 2014-09-08 10:27:28  Twitter Web Client      0   70  \n",
       "4 2014-09-08 10:27:03  Twitter Web Client      0  473  "
      ]
     },
     "execution_count": 26,
     "metadata": {},
     "output_type": "execute_result"
    }
   ],
   "source": [
    "data.head(10)"
   ]
  },
  {
   "cell_type": "code",
   "execution_count": null,
   "metadata": {
    "collapsed": true
   },
   "outputs": [],
   "source": []
  }
 ],
 "metadata": {
  "kernelspec": {
   "display_name": "Python 3",
   "language": "python",
   "name": "python3"
  },
  "language_info": {
   "codemirror_mode": {
    "name": "ipython",
    "version": 3
   },
   "file_extension": ".py",
   "mimetype": "text/x-python",
   "name": "python",
   "nbconvert_exporter": "python",
   "pygments_lexer": "ipython3",
   "version": "3.6.3"
  }
 },
 "nbformat": 4,
 "nbformat_minor": 2
}
